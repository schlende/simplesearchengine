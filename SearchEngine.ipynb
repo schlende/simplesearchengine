{
 "cells": [
  {
   "cell_type": "markdown",
   "metadata": {},
   "source": [
    "# Walt's amazing simple search engine\n",
    "\n",
    "Let's make a search engine!\n",
    "\n",
    "A search engine sorts stuff so that I don't have to. BOOM! I always wanted to build one of em, and the day has finally come. My simple search engine helps me find stuff similar to other stuff that's on my desk.\n",
    "\n",
    "## Methodology\n",
    "\n",
    "1. Get stuff (on my desk)\n",
    "2. Mesaure stuff (no ruler... erm... who needs one! I'll just guestimate with my HAND!! 🖐💪💪💪🚀🚀)\n",
    "3. Do math (cosine similarity).\n",
    "4. Display sorted list."
   ]
  },
  {
   "cell_type": "code",
   "execution_count": 46,
   "metadata": {},
   "outputs": [
    {
     "name": "stdout",
     "output_type": "stream",
     "text": [
      "('phone', 1.0)\n",
      "('kindle', 0.9816090739462485)\n",
      "('mouse', 0.9746339793607601)\n",
      "('pen', 0.9156819201892902)\n",
      "('water', 0.42334237343420567)\n"
     ]
    }
   ],
   "source": [
    "import math\n",
    "\n",
    "items = {\n",
    "    'phone': [1, 1/2, 1/12],\n",
    "    'mouse': [3/4, 1/3, 1/4],\n",
    "    'kindle': [13/12, 10/12, 1/12],\n",
    "    'water': [1/2, 1/2, 7/4],\n",
    "    'pen': [1, 1/20, 1/20]\n",
    "}\n",
    "\n",
    "def similarities(item):\n",
    "    results = []\n",
    "    for theitem in items:\n",
    "        a = items[item]\n",
    "        b = items[theitem]\n",
    "        \n",
    "        simscore = cosinesim(a, b)\n",
    "        results.append((theitem, simscore))\n",
    "    \n",
    "    results.sort(key=lambda tup: tup[1], reverse = True)\n",
    "    for result in results:\n",
    "        print(result)\n",
    "    \n",
    "    \n",
    "def cosinesim(vec1, vec2):\n",
    "    vec1mag = magnitude(vec1)\n",
    "    vec2mag = magnitude(vec2)\n",
    "    dotprod = 0\n",
    "    \n",
    "    for i in range(len(vec1)):\n",
    "        dotprod = dotprod + vec1[i] * vec2[i]\n",
    "        \n",
    "    return dotprod / (vec1mag * vec2mag)\n",
    "\n",
    "\n",
    "def magnitude(vec):\n",
    "    mag = 0\n",
    "    for i in range(len(vec)):\n",
    "        mag = mag + vec[i] * vec[i]\n",
    "    mag = math.sqrt(mag)\n",
    "    return mag\n",
    "\n",
    "similarities('phone')"
   ]
  },
  {
   "cell_type": "code",
   "execution_count": 47,
   "metadata": {},
   "outputs": [
    {
     "name": "stdout",
     "output_type": "stream",
     "text": [
      "('pen', 1.0)\n",
      "('phone', 0.9156819201892902)\n",
      "('mouse', 0.9058903792082271)\n",
      "('kindle', 0.8225728713106082)\n",
      "('water', 0.3237021810765124)\n"
     ]
    }
   ],
   "source": [
    "similarities('pen')"
   ]
  },
  {
   "cell_type": "code",
   "execution_count": 48,
   "metadata": {},
   "outputs": [
    {
     "name": "stdout",
     "output_type": "stream",
     "text": [
      "('water', 1.0)\n",
      "('mouse', 0.6046547897464497)\n",
      "('kindle', 0.42722490284256237)\n",
      "('phone', 0.42334237343420567)\n",
      "('pen', 0.3237021810765124)\n"
     ]
    }
   ],
   "source": [
    "similarities('water')"
   ]
  },
  {
   "cell_type": "code",
   "execution_count": 49,
   "metadata": {},
   "outputs": [
    {
     "name": "stdout",
     "output_type": "stream",
     "text": [
      "('kindle', 0.9999999999999999)\n",
      "('phone', 0.9816090739462485)\n",
      "('mouse', 0.9457692028425447)\n",
      "('pen', 0.8225728713106082)\n",
      "('water', 0.42722490284256237)\n"
     ]
    }
   ],
   "source": [
    "similarities('kindle')"
   ]
  },
  {
   "cell_type": "markdown",
   "metadata": {},
   "source": [
    "## Results\n",
    "\n",
    "Numbers make sense! \n",
    "\n",
    "My kindle and phone are sorta similarish... who knew???\n",
    "\n",
    "My pen is definitely not like my water bottle. ✅\n",
    "\n",
    "### Useful? I think so!!! 💪💪💪🚀🚀"
   ]
  },
  {
   "cell_type": "code",
   "execution_count": null,
   "metadata": {},
   "outputs": [],
   "source": []
  }
 ],
 "metadata": {
  "kernelspec": {
   "display_name": "Python 3",
   "language": "python",
   "name": "python3"
  },
  "language_info": {
   "codemirror_mode": {
    "name": "ipython",
    "version": 3
   },
   "file_extension": ".py",
   "mimetype": "text/x-python",
   "name": "python",
   "nbconvert_exporter": "python",
   "pygments_lexer": "ipython3",
   "version": "3.7.3"
  }
 },
 "nbformat": 4,
 "nbformat_minor": 4
}
